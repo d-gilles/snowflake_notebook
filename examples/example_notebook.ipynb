{
 "cells": [
  {
   "cell_type": "markdown",
   "id": "7b830514",
   "metadata": {},
   "source": [
    "# Snowflake Notebook Beispiel\n",
    "\n",
    "Dieses Notebook zeigt, wie die `snowflake_notebook`-Bibliothek verwendet wird."
   ]
  },
  {
   "cell_type": "code",
   "execution_count": null,
   "id": "a214043b",
   "metadata": {},
   "outputs": [],
   "source": [
    "# Importieren der Bibliothek\n",
    "from snowflake_notebook import SnowflakeConnection, load_sql_magic\n",
    "\n",
    "# Verbindung zu Snowflake herstellen\n",
    "# Methode 1: Aus .env-Datei\n",
    "conn = SnowflakeConnection.from_env()\n",
    "\n",
    "# Methode 2: Direkte Angabe\n",
    "# conn = SnowflakeConnection(\n",
    "#     user=\"DEIN_BENUTZER\", \n",
    "#     password=\"DEIN_PASSWORT\",\n",
    "#     account=\"DEIN_ACCOUNT\",\n",
    "#     warehouse=\"DEIN_WAREHOUSE\",\n",
    "#     database=\"DEINE_DB\"  # Optional\n",
    "# )\n",
    "\n",
    "# SQL-Magic aktivieren\n",
    "load_sql_magic(conn)"
   ]
  },
  {
   "cell_type": "code",
   "execution_count": null,
   "id": "e32b9688",
   "metadata": {
    "vscode": {
     "languageId": "sql"
    }
   },
   "outputs": [],
   "source": [
    "%%sql\n",
    "-- Beispielabfrage ohne Datenbankangabe (verwendet die aktuelle Datenbank)\n",
    "SELECT \n",
    "    current_database() as database,\n",
    "    current_schema() as schema,\n",
    "    current_warehouse() as warehouse"
   ]
  },
  {
   "cell_type": "code",
   "execution_count": null,
   "id": "f7b9229e",
   "metadata": {
    "vscode": {
     "languageId": "sql"
    }
   },
   "outputs": [],
   "source": [
    "%%sql MEINE_ANDERE_DB\n",
    "-- Beispielabfrage mit Datenbankangabe\n",
    "SELECT\n",
    "    table_name,\n",
    "    table_schema\n",
    "FROM\n",
    "    information_schema.tables\n",
    "WHERE\n",
    "    table_schema = 'PUBLIC'\n",
    "LIMIT 5"
   ]
  },
  {
   "cell_type": "code",
   "execution_count": null,
   "id": "c8b0ee6e",
   "metadata": {},
   "outputs": [],
   "source": [
    "# Arbeiten mit dem gespeicherten Ergebnis\n",
    "if result is not None and not result.empty:\n",
    "    print(f\"Das Ergebnis enthält {len(result)} Zeilen und {len(result.columns)} Spalten\")\n",
    "    print(\"Spalten:\", result.columns.tolist())\n",
    "    display(result.head())\n",
    "else:\n",
    "    print(\"Kein Ergebnis oder leeres Ergebnis\")"
   ]
  },
  {
   "cell_type": "code",
   "execution_count": null,
   "id": "3381ef56",
   "metadata": {},
   "outputs": [],
   "source": [
    "# Direkte Verwendung der Verbindung\n",
    "df = conn.execute_query(\"SELECT 1 AS test\")\n",
    "print(df)\n",
    "\n",
    "# Verbindung schließen, wenn nicht mehr benötigt\n",
    "# conn.close()"
   ]
  }
 ],
 "metadata": {
  "language_info": {
   "name": "python"
  }
 },
 "nbformat": 4,
 "nbformat_minor": 5
}
